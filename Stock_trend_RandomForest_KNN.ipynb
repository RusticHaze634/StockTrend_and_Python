{
  "nbformat": 4,
  "nbformat_minor": 0,
  "metadata": {
    "colab": {
      "name": "Stock_trend_RandomForest_KNN.ipynb",
      "provenance": [],
      "collapsed_sections": []
    },
    "kernelspec": {
      "name": "python3",
      "display_name": "Python 3"
    },
    "language_info": {
      "name": "python"
    }
  },
  "cells": [
    {
      "cell_type": "markdown",
      "source": [
        "**Random forest , KNN**"
      ],
      "metadata": {
        "id": "5WeeADmh-BIV"
      }
    },
    {
      "cell_type": "code",
      "source": [
        "!pip install yfinance\n",
        "!pip install finta"
      ],
      "metadata": {
        "id": "T9D4eU_aCQcO"
      },
      "execution_count": null,
      "outputs": []
    },
    {
      "cell_type": "code",
      "execution_count": null,
      "metadata": {
        "id": "uznBE4j1B0KM"
      },
      "outputs": [],
      "source": [
        "import yfinance as yf\n",
        "import datetime\n",
        "import pandas as pd\n",
        "import numpy as np\n",
        "from finta import TA\n",
        "import matplotlib.pyplot as plt\n",
        "\n",
        "from sklearn import svm\n",
        "from sklearn.ensemble import RandomForestClassifier\n",
        "from sklearn.neighbors import KNeighborsClassifier\n",
        "from sklearn.ensemble import AdaBoostClassifier\n",
        "from sklearn.ensemble import GradientBoostingClassifier\n",
        "from sklearn.ensemble import VotingClassifier\n",
        "from sklearn.model_selection import train_test_split, GridSearchCV\n",
        "from sklearn.metrics import confusion_matrix, classification_report\n",
        "from sklearn import metrics"
      ]
    },
    {
      "cell_type": "code",
      "source": [
        "\"\"\"\n",
        "Defining some constants for data mining\n",
        "\"\"\"\n",
        "\n",
        "NUM_DAYS = 10000     # The number of days of historical data to retrieve\n",
        "INTERVAL = '1d'     # Sample rate of historical data\n",
        "symbol = 'SPY'      # Symbol of the desired stock\n",
        "\n",
        "# List of symbols for technical indicators\n",
        "INDICATORS = ['RSI', 'MACD', 'STOCH','ADL', 'ATR', 'MOM', 'MFI', 'ROC', 'OBV', 'CCI', 'EMV', 'VORTEX']\n"
      ],
      "metadata": {
        "id": "8emgzckLCL4V"
      },
      "execution_count": null,
      "outputs": []
    },
    {
      "cell_type": "code",
      "source": [
        "\"\"\"\n",
        "Next we pull the historical data using yfinance\n",
        "Rename the column names because finta uses the lowercase names\n",
        "\"\"\"\n",
        "\n",
        "start = (datetime.date.today() - datetime.timedelta( NUM_DAYS ) )\n",
        "end = datetime.datetime.today()\n",
        "\n",
        "data = yf.download(symbol, start=start, end=end, interval=INTERVAL)\n",
        "data.rename(columns={\"Close\": 'close', \"High\": 'high', \"Low\": 'low', 'Volume': 'volume', 'Open': 'open'}, inplace=True)\n",
        "print(data.head())\n",
        "\n",
        "tmp = data.iloc[-60:]\n",
        "tmp['close'].plot()"
      ],
      "metadata": {
        "colab": {
          "base_uri": "https://localhost:8080/",
          "height": 441
        },
        "id": "LEJUDk7BCJTN",
        "outputId": "b40d60f4-3a19-4522-994c-df6251b8c82d"
      },
      "execution_count": null,
      "outputs": [
        {
          "output_type": "stream",
          "name": "stdout",
          "text": [
            "\r[*********************100%***********************]  1 of 1 completed\n",
            "                 open       high        low      close  Adj Close  volume\n",
            "Date                                                                     \n",
            "1995-01-06  46.093750  46.250000  45.906250  46.046875  28.179764  448400\n",
            "1995-01-09  46.031250  46.093750  46.000000  46.093750  28.208450   36800\n",
            "1995-01-10  46.203125  46.390625  46.140625  46.140625  28.237150  229800\n",
            "1995-01-11  46.296875  46.296875  45.812500  46.171875  28.256264  222400\n",
            "1995-01-12  46.125000  46.218750  46.031250  46.187500  28.265825   40300\n"
          ]
        },
        {
          "output_type": "execute_result",
          "data": {
            "text/plain": [
              "<matplotlib.axes._subplots.AxesSubplot at 0x7f2ea5b1d350>"
            ]
          },
          "metadata": {},
          "execution_count": 7
        },
        {
          "output_type": "display_data",
          "data": {
            "text/plain": [
              "<Figure size 432x288 with 1 Axes>"
            ],
            "image/png": "[encoded data removed]"
          },
          "metadata": {
            "needs_background": "light"
          }
        }
      ]
    },
    {
      "cell_type": "code",
      "source": [
        "\"\"\"\n",
        "Next we clean our data and perform feature engineering to create new technical indicator features that our\n",
        "model can learn from\n",
        "\"\"\"\n",
        "\n",
        "def _exponential_smooth(data, alpha):\n",
        "    \"\"\"\n",
        "    Function that exponentially smooths dataset so values are less 'rigid'\n",
        "    :param alpha: weight factor to weight recent values more\n",
        "    \"\"\"\n",
        "    \n",
        "    return data.ewm(alpha=alpha).mean()\n",
        "\n",
        "data = _exponential_smooth(data, 0.65)\n",
        "\n",
        "tmp1 = data.iloc[-60:]\n",
        "tmp1['close'].plot()"
      ],
      "metadata": {
        "colab": {
          "base_uri": "https://localhost:8080/",
          "height": 302
        },
        "id": "_7D4IM2WCyI7",
        "outputId": "1b0a1067-f187-49f8-b6e2-d8d78c9dcf96"
      },
      "execution_count": null,
      "outputs": [
        {
          "output_type": "execute_result",
          "data": {
            "text/plain": [
              "<matplotlib.axes._subplots.AxesSubplot at 0x7f2ea5b8a810>"
            ]
          },
          "metadata": {},
          "execution_count": 8
        },
        {
          "output_type": "display_data",
          "data": {
            "text/plain": [
              "<Figure size 432x288 with 1 Axes>"
            ],
            "image/png": "[encoded data removed]"
          },
          "metadata": {
            "needs_background": "light"
          }
        }
      ]
    },
    {
      "cell_type": "code",
      "source": [
        "def _get_indicator_data(data):\n",
        "    \"\"\"\n",
        "    Function that uses the finta API to calculate technical indicators used as the features\n",
        "    :return:\n",
        "    \"\"\"\n",
        "\n",
        "    for indicator in INDICATORS:\n",
        "        ind_data = eval('TA.' + indicator + '(data)')\n",
        "        if not isinstance(ind_data, pd.DataFrame):\n",
        "            ind_data = ind_data.to_frame()\n",
        "        data = data.merge(ind_data, left_index=True, right_index=True)\n",
        "    data.rename(columns={\"14 period EMV.\": '14 period EMV'}, inplace=True)\n",
        "\n",
        "    # Also calculate moving averages for features\n",
        "    data['ema50'] = data['close'] / data['close'].ewm(50).mean()\n",
        "    data['ema21'] = data['close'] / data['close'].ewm(21).mean()\n",
        "    data['ema15'] = data['close'] / data['close'].ewm(14).mean()\n",
        "    data['ema5'] = data['close'] / data['close'].ewm(5).mean()\n",
        "\n",
        "    # Instead of using the actual volume value (which changes over time), we normalize it with a moving volume average\n",
        "    data['normVol'] = data['volume'] / data['volume'].ewm(5).mean()\n",
        "\n",
        "    # Remove columns that won't be used as features\n",
        "    del (data['open'])\n",
        "    del (data['high'])\n",
        "    del (data['low'])\n",
        "    del (data['volume'])\n",
        "    del (data['Adj Close'])\n",
        "    \n",
        "    return data\n",
        "\n",
        "data = _get_indicator_data(data)\n",
        "print(data.columns)"
      ],
      "metadata": {
        "colab": {
          "base_uri": "https://localhost:8080/"
        },
        "id": "-crv9bF0C3B8",
        "outputId": "c401a114-ceb0-4be1-f565-d7104c0a5425"
      },
      "execution_count": null,
      "outputs": [
        {
          "output_type": "stream",
          "name": "stdout",
          "text": [
            "Index(['close', '14 period RSI', 'MACD', 'SIGNAL', '14 period STOCH %K', 'MFV',\n",
            "       '14 period ATR', 'MOM', '14 period MFI', 'ROC', 'OBV', '20 period CCI',\n",
            "       '14 period EMV', 'VIm', 'VIp', 'ema50', 'ema21', 'ema15', 'ema5',\n",
            "       'normVol'],\n",
            "      dtype='object')\n"
          ]
        }
      ]
    },
    {
      "cell_type": "code",
      "source": [
        "live_pred_data = data.iloc[-16:-11]"
      ],
      "metadata": {
        "id": "feil6QaCDGEN"
      },
      "execution_count": null,
      "outputs": []
    },
    {
      "cell_type": "code",
      "source": [
        "def _produce_prediction(data, window):\n",
        "    \"\"\"\n",
        "    Function that produces the 'truth' values\n",
        "    At a given row, it looks 'window' rows ahead to see if the price increased (1) or decreased (0)\n",
        "    :param window: number of days, or rows to look ahead to see what the price did\n",
        "    \"\"\"\n",
        "    \n",
        "    prediction = (data.shift(-window)['close'] >= data['close'])\n",
        "    prediction = prediction.iloc[:-window]\n",
        "    data['pred'] = prediction.astype(int)\n",
        "    \n",
        "    return data\n",
        "\n",
        "data = _produce_prediction(data, window=15)\n",
        "del (data['close'])\n",
        "data = data.dropna() # Some indicators produce NaN values for the first few rows, we just remove them here\n",
        "data.tail()"
      ],
      "metadata": {
        "colab": {
          "base_uri": "https://localhost:8080/",
          "height": 423
        },
        "id": "MSqKcZ0SDK_d",
        "outputId": "3d594708-69f4-44c3-849f-e2ea09623daa"
      },
      "execution_count": null,
      "outputs": [
        {
          "output_type": "execute_result",
          "data": {
            "text/plain": [
              "            14 period RSI      MACD    SIGNAL  14 period STOCH %K  \\\n",
              "Date                                                                \n",
              "2022-04-26      29.242136 -3.520320 -0.727139            6.977529   \n",
              "2022-04-27      27.908224 -4.716194 -1.524950            6.549950   \n",
              "2022-04-28      36.302188 -5.115945 -2.243149           24.125773   \n",
              "2022-04-29      31.060962 -6.021412 -2.998801            8.783345   \n",
              "2022-05-02      30.342270 -6.761310 -3.751303           17.724525   \n",
              "\n",
              "                     MFV  14 period ATR        MOM  14 period MFI       ROC  \\\n",
              "Date                                                                          \n",
              "2022-04-26  4.014970e+10       7.699806 -21.994010      18.145632 -6.236462   \n",
              "2022-04-27  4.009401e+10       7.841530 -21.360916      17.930107 -6.582879   \n",
              "2022-04-28  4.013437e+10       8.136541 -17.551321      25.920148 -4.109168   \n",
              "2022-04-29  4.006368e+10       8.702687 -22.906468      25.057633 -5.332765   \n",
              "2022-05-02  4.009835e+10       9.078760 -23.285757      24.086372 -6.095729   \n",
              "\n",
              "                     OBV  20 period CCI  14 period EMV       VIm       VIp  \\\n",
              "Date                                                                         \n",
              "2022-04-26  3.753128e+10    -200.974635      -0.186663  1.243656  0.679631   \n",
              "2022-04-27  3.741388e+10    -197.495239      -0.179874  1.229807  0.713457   \n",
              "2022-04-28  3.752351e+10    -148.777403      -0.159105  1.187671  0.745425   \n",
              "2022-04-29  3.739077e+10    -153.284908      -0.179494  1.184194  0.722100   \n",
              "2022-05-02  3.724141e+10    -153.696555      -0.196600  1.209041  0.729526   \n",
              "\n",
              "               ema50     ema21     ema15      ema5   normVol  pred  \n",
              "Date                                                                \n",
              "2022-04-26  0.945856  0.952565  0.955031  0.964664  1.155929   0.0  \n",
              "2022-04-27  0.941871  0.949718  0.953086  0.966008  1.198008   0.0  \n",
              "2022-04-28  0.956345  0.965074  0.969027  0.983275  1.097056   0.0  \n",
              "2022-04-29  0.939116  0.948841  0.953565  0.970145  1.259422   0.0  \n",
              "2022-05-02  0.937485  0.948337  0.953853  0.972559  1.324999   0.0  "
            ],
            "text/html": [
              "\n",
              "  <div id=\"df-a5cb414b-1166-4fde-a2bc-abe9c2234484\">\n",
              "    <div class=\"colab-df-container\">\n",
              "      <div>\n",
              "<style scoped>\n",
              "    .dataframe tbody tr th:only-of-type {\n",
              "        vertical-align: middle;\n",
              "    }\n",
              "\n",
              "    .dataframe tbody tr th {\n",
              "        vertical-align: top;\n",
              "    }\n",
              "\n",
              "    .dataframe thead th {\n",
              "        text-align: right;\n",
              "    }\n",
              "</style>\n",
              "<table border=\"1\" class=\"dataframe\">\n",
              "  <thead>\n",
              "    <tr style=\"text-align: right;\">\n",
              "      <th></th>\n",
              "      <th>14 period RSI</th>\n",
              "      <th>MACD</th>\n",
              "      <th>SIGNAL</th>\n",
              "      <th>14 period STOCH %K</th>\n",
              "      <th>MFV</th>\n",
              "      <th>14 period ATR</th>\n",
              "      <th>MOM</th>\n",
              "      <th>14 period MFI</th>\n",
              "      <th>ROC</th>\n",
              "      <th>OBV</th>\n",
              "      <th>20 period CCI</th>\n",
              "      <th>14 period EMV</th>\n",
              "      <th>VIm</th>\n",
              "      <th>VIp</th>\n",
              "      <th>ema50</th>\n",
              "      <th>ema21</th>\n",
              "      <th>ema15</th>\n",
              "      <th>ema5</th>\n",
              "      <th>normVol</th>\n",
              "      <th>pred</th>\n",
              "    </tr>\n",
              "    <tr>\n",
              "      <th>Date</th>\n",
              "      <th></th>\n",
              "      <th></th>\n",
              "      <th></th>\n",
              "      <th></th>\n",
              "      <th></th>\n",
              "      <th></th>\n",
              "      <th></th>\n",
              "      <th></th>\n",
              "      <th></th>\n",
              "      <th></th>\n",
              "      <th></th>\n",
              "      <th></th>\n",
              "      <th></th>\n",
              "      <th></th>\n",
              "      <th></th>\n",
              "      <th></th>\n",
              "      <th></th>\n",
              "      <th></th>\n",
              "      <th></th>\n",
              "      <th></th>\n",
              "    </tr>\n",
              "  </thead>\n",
              "  <tbody>\n",
              "    <tr>\n",
              "      <th>2022-04-26</th>\n",
              "      <td>29.242136</td>\n",
              "      <td>-3.520320</td>\n",
              "      <td>-0.727139</td>\n",
              "      <td>6.977529</td>\n",
              "      <td>4.014970e+10</td>\n",
              "      <td>7.699806</td>\n",
              "      <td>-21.994010</td>\n",
              "      <td>18.145632</td>\n",
              "      <td>-6.236462</td>\n",
              "      <td>3.753128e+10</td>\n",
              "      <td>-200.974635</td>\n",
              "      <td>-0.186663</td>\n",
              "      <td>1.243656</td>\n",
              "      <td>0.679631</td>\n",
              "      <td>0.945856</td>\n",
              "      <td>0.952565</td>\n",
              "      <td>0.955031</td>\n",
              "      <td>0.964664</td>\n",
              "      <td>1.155929</td>\n",
              "      <td>0.0</td>\n",
              "    </tr>\n",
              "    <tr>\n",
              "      <th>2022-04-27</th>\n",
              "      <td>27.908224</td>\n",
              "      <td>-4.716194</td>\n",
              "      <td>-1.524950</td>\n",
              "      <td>6.549950</td>\n",
              "      <td>4.009401e+10</td>\n",
              "      <td>7.841530</td>\n",
              "      <td>-21.360916</td>\n",
              "      <td>17.930107</td>\n",
              "      <td>-6.582879</td>\n",
              "      <td>3.741388e+10</td>\n",
              "      <td>-197.495239</td>\n",
              "      <td>-0.179874</td>\n",
              "      <td>1.229807</td>\n",
              "      <td>0.713457</td>\n",
              "      <td>0.941871</td>\n",
              "      <td>0.949718</td>\n",
              "      <td>0.953086</td>\n",
              "      <td>0.966008</td>\n",
              "      <td>1.198008</td>\n",
              "      <td>0.0</td>\n",
              "    </tr>\n",
              "    <tr>\n",
              "      <th>2022-04-28</th>\n",
              "      <td>36.302188</td>\n",
              "      <td>-5.115945</td>\n",
              "      <td>-2.243149</td>\n",
              "      <td>24.125773</td>\n",
              "      <td>4.013437e+10</td>\n",
              "      <td>8.136541</td>\n",
              "      <td>-17.551321</td>\n",
              "      <td>25.920148</td>\n",
              "      <td>-4.109168</td>\n",
              "      <td>3.752351e+10</td>\n",
              "      <td>-148.777403</td>\n",
              "      <td>-0.159105</td>\n",
              "      <td>1.187671</td>\n",
              "      <td>0.745425</td>\n",
              "      <td>0.956345</td>\n",
              "      <td>0.965074</td>\n",
              "      <td>0.969027</td>\n",
              "      <td>0.983275</td>\n",
              "      <td>1.097056</td>\n",
              "      <td>0.0</td>\n",
              "    </tr>\n",
              "    <tr>\n",
              "      <th>2022-04-29</th>\n",
              "      <td>31.060962</td>\n",
              "      <td>-6.021412</td>\n",
              "      <td>-2.998801</td>\n",
              "      <td>8.783345</td>\n",
              "      <td>4.006368e+10</td>\n",
              "      <td>8.702687</td>\n",
              "      <td>-22.906468</td>\n",
              "      <td>25.057633</td>\n",
              "      <td>-5.332765</td>\n",
              "      <td>3.739077e+10</td>\n",
              "      <td>-153.284908</td>\n",
              "      <td>-0.179494</td>\n",
              "      <td>1.184194</td>\n",
              "      <td>0.722100</td>\n",
              "      <td>0.939116</td>\n",
              "      <td>0.948841</td>\n",
              "      <td>0.953565</td>\n",
              "      <td>0.970145</td>\n",
              "      <td>1.259422</td>\n",
              "      <td>0.0</td>\n",
              "    </tr>\n",
              "    <tr>\n",
              "      <th>2022-05-02</th>\n",
              "      <td>30.342270</td>\n",
              "      <td>-6.761310</td>\n",
              "      <td>-3.751303</td>\n",
              "      <td>17.724525</td>\n",
              "      <td>4.009835e+10</td>\n",
              "      <td>9.078760</td>\n",
              "      <td>-23.285757</td>\n",
              "      <td>24.086372</td>\n",
              "      <td>-6.095729</td>\n",
              "      <td>3.724141e+10</td>\n",
              "      <td>-153.696555</td>\n",
              "      <td>-0.196600</td>\n",
              "      <td>1.209041</td>\n",
              "      <td>0.729526</td>\n",
              "      <td>0.937485</td>\n",
              "      <td>0.948337</td>\n",
              "      <td>0.953853</td>\n",
              "      <td>0.972559</td>\n",
              "      <td>1.324999</td>\n",
              "      <td>0.0</td>\n",
              "    </tr>\n",
              "  </tbody>\n",
              "</table>\n",
              "</div>\n",
              "      <button class=\"colab-df-convert\" onclick=\"convertToInteractive('df-a5cb414b-1166-4fde-a2bc-abe9c2234484')\"\n",
              "              title=\"Convert this dataframe to an interactive table.\"\n",
              "              style=\"display:none;\">\n",
              "        \n",
              "  <svg xmlns=\"http://www.w3.org/2000/svg\" height=\"24px\"viewBox=\"0 0 24 24\"\n",
              "       width=\"24px\">\n",
              "    <path d=\"M0 0h24v24H0V0z\" fill=\"none\"/>\n",
              "    <path d=\"M18.56 5.44l.94 2.06.94-2.06 2.06-.94-2.06-.94-.94-2.06-.94 2.06-2.06.94zm-11 1L8.5 8.5l.94-2.06 2.06-.94-2.06-.94L8.5 2.5l-.94 2.06-2.06.94zm10 10l.94 2.06.94-2.06 2.06-.94-2.06-.94-.94-2.06-.94 2.06-2.06.94z\"/><path d=\"M17.41 7.96l-1.37-1.37c-.4-.4-.92-.59-1.43-.59-.52 0-1.04.2-1.43.59L10.3 9.45l-7.72 7.72c-.78.78-.78 2.05 0 2.83L4 21.41c.39.39.9.59 1.41.59.51 0 1.02-.2 1.41-.59l7.78-7.78 2.81-2.81c.8-.78.8-2.07 0-2.86zM5.41 20L4 18.59l7.72-7.72 1.47 1.35L5.41 20z\"/>\n",
              "  </svg>\n",
              "      </button>\n",
              "      \n",
              "  <style>\n",
              "    .colab-df-container {\n",
              "      display:flex;\n",
              "      flex-wrap:wrap;\n",
              "      gap: 12px;\n",
              "    }\n",
              "\n",
              "    .colab-df-convert {\n",
              "      background-color: #E8F0FE;\n",
              "      border: none;\n",
              "      border-radius: 50%;\n",
              "      cursor: pointer;\n",
              "      display: none;\n",
              "      fill: #1967D2;\n",
              "      height: 32px;\n",
              "      padding: 0 0 0 0;\n",
              "      width: 32px;\n",
              "    }\n",
              "\n",
              "    .colab-df-convert:hover {\n",
              "      background-color: #E2EBFA;\n",
              "      box-shadow: 0px 1px 2px rgba(60, 64, 67, 0.3), 0px 1px 3px 1px rgba(60, 64, 67, 0.15);\n",
              "      fill: #174EA6;\n",
              "    }\n",
              "\n",
              "    [theme=dark] .colab-df-convert {\n",
              "      background-color: #3B4455;\n",
              "      fill: #D2E3FC;\n",
              "    }\n",
              "\n",
              "    [theme=dark] .colab-df-convert:hover {\n",
              "      background-color: #434B5C;\n",
              "      box-shadow: 0px 1px 3px 1px rgba(0, 0, 0, 0.15);\n",
              "      filter: drop-shadow(0px 1px 2px rgba(0, 0, 0, 0.3));\n",
              "      fill: #FFFFFF;\n",
              "    }\n",
              "  </style>\n",
              "\n",
              "      <script>\n",
              "        const buttonEl =\n",
              "          document.querySelector('#df-a5cb414b-1166-4fde-a2bc-abe9c2234484 button.colab-df-convert');\n",
              "        buttonEl.style.display =\n",
              "          google.colab.kernel.accessAllowed ? 'block' : 'none';\n",
              "\n",
              "        async function convertToInteractive(key) {\n",
              "          const element = document.querySelector('#df-a5cb414b-1166-4fde-a2bc-abe9c2234484');\n",
              "          const dataTable =\n",
              "            await google.colab.kernel.invokeFunction('convertToInteractive',\n",
              "                                                     [key], {});\n",
              "          if (!dataTable) return;\n",
              "\n",
              "          const docLinkHtml = 'Like what you see? Visit the ' +\n",
              "            '<a target=\"_blank\" href=https://colab.research.google.com/notebooks/data_table.ipynb>data table notebook</a>'\n",
              "            + ' to learn more about interactive tables.';\n",
              "          element.innerHTML = '';\n",
              "          dataTable['output_type'] = 'display_data';\n",
              "          await google.colab.output.renderOutput(dataTable, element);\n",
              "          const docLink = document.createElement('div');\n",
              "          docLink.innerHTML = docLinkHtml;\n",
              "          element.appendChild(docLink);\n",
              "        }\n",
              "      </script>\n",
              "    </div>\n",
              "  </div>\n",
              "  "
            ]
          },
          "metadata": {},
          "execution_count": 11
        }
      ]
    },
    {
      "cell_type": "code",
      "source": [
        "# X_train = data[data.Date.dt.year < 2022]\n",
        "# y_train = data[data.Date.dt.year < 2022]\n",
        "# X_test = data[data.Date.dt.year == 2022]\n",
        "# y_test = data[data.Date.dt.year == 2022]"
      ],
      "metadata": {
        "id": "7YH29v7dFVyN"
      },
      "execution_count": null,
      "outputs": []
    },
    {
      "cell_type": "code",
      "source": [
        "def cross_Validation(data):\n",
        "\n",
        "    # Split data into equal partitions of size len_train\n",
        "    \n",
        "    num_train = 10 # Increment of how many starting points (len(data) / num_train  =  number of train-test sets)\n",
        "    len_train = 40 # Length of each train-test set\n",
        "    \n",
        "    # Lists to store the results from each model\n",
        "    rf_RESULTS = []\n",
        "    knn_RESULTS = []\n",
        "    ensemble_RESULTS = []\n",
        "    \n",
        "    i = 0\n",
        "    while True:\n",
        "        \n",
        "        # Partition the data into chunks of size len_train every num_train days\n",
        "        df = data.iloc[i * num_train : (i * num_train) + len_train]\n",
        "        i += 1\n",
        "        print(i * num_train, (i * num_train) + len_train)\n",
        "        \n",
        "        if len(df) < 40:\n",
        "            break"
      ],
      "metadata": {
        "id": "w9s29bG8HDqu"
      },
      "execution_count": null,
      "outputs": []
    },
    {
      "cell_type": "code",
      "source": [
        "def cross_Validation(data):\n",
        "\n",
        "    # Split data into equal partitions of size len_train\n",
        "    \n",
        "    num_train = 10 # Increment of how many starting points (len(data) / num_train  =  number of train-test sets)\n",
        "    len_train = 40 # Length of each train-test set\n",
        "    \n",
        "    # Lists to store the results from each model\n",
        "    rf_RESULTS = []\n",
        "    knn_RESULTS = []\n",
        "    ensemble_RESULTS = []\n",
        "    \n",
        "    i = 0\n",
        "    while True:\n",
        "        \n",
        "        # Partition the data into chunks of size len_train every num_train days\n",
        "        df = data.iloc[i * num_train : (i * num_train) + len_train]\n",
        "        i += 1\n",
        "        print(i * num_train, (i * num_train) + len_train)\n",
        "        \n",
        "        if len(df) < 40:\n",
        "            break\n",
        "        \n",
        "        y = df['pred']\n",
        "        features = [x for x in df.columns if x not in ['pred']]\n",
        "        X = df[features]\n",
        "\n",
        "        X_train, X_test, y_train, y_test = train_test_split(X, y, train_size= 7 * len(X) // 10,shuffle=False)\n"
      ],
      "metadata": {
        "id": "GMIcTcNXGrcv"
      },
      "execution_count": null,
      "outputs": []
    },
    {
      "cell_type": "markdown",
      "source": [
        "**Model Creation**"
      ],
      "metadata": {
        "id": "WJo8UxIADYQA"
      }
    },
    {
      "cell_type": "code",
      "source": [
        "def _train_random_forest(X_train, y_train, X_test, y_test):\n",
        "\n",
        "    \"\"\"\n",
        "    Function that uses random forest classifier to train the model\n",
        "    :return:\n",
        "    \"\"\"\n",
        "    \n",
        "    # Create a new random forest classifier\n",
        "    rf = RandomForestClassifier()\n",
        "    \n",
        "    # Dictionary of all values we want to test for n_estimators\n",
        "    params_rf = {'n_estimators': [110,130,140,150,160,180,200]}\n",
        "    \n",
        "    # Use gridsearch to test all values for n_estimators\n",
        "    rf_gs = GridSearchCV(rf, params_rf, cv=5)\n",
        "    \n",
        "    # Fit model to training data\n",
        "    rf_gs.fit(X_train, y_train)\n",
        "    \n",
        "    # Save best model\n",
        "    rf_best = rf_gs.best_estimator_\n",
        "    \n",
        "    # Check best n_estimators value\n",
        "    print(rf_gs.best_params_)\n",
        "    \n",
        "    prediction = rf_best.predict(X_test)\n",
        "\n",
        "    print(classification_report(y_test, prediction))\n",
        "    print(confusion_matrix(y_test, prediction))\n",
        "    \n",
        "    return rf_best\n",
        "    \n",
        "rf_model = _train_random_forest(X_train, y_train, X_test, y_test)"
      ],
      "metadata": {
        "colab": {
          "base_uri": "https://localhost:8080/",
          "height": 200
        },
        "id": "5BrZoX18DUm_",
        "outputId": "845878fa-c125-485c-a8ad-7dce31b220b2"
      },
      "execution_count": null,
      "outputs": [
        {
          "output_type": "error",
          "ename": "NameError",
          "evalue": "ignored",
          "traceback": [
            "\u001b[0;31m---------------------------------------------------------------------------\u001b[0m",
            "\u001b[0;31mNameError\u001b[0m                                 Traceback (most recent call last)",
            "\u001b[0;32m<ipython-input-26-e5160352dbae>\u001b[0m in \u001b[0;36m<module>\u001b[0;34m()\u001b[0m\n\u001b[1;32m     31\u001b[0m     \u001b[0;32mreturn\u001b[0m \u001b[0mrf_best\u001b[0m\u001b[0;34m\u001b[0m\u001b[0;34m\u001b[0m\u001b[0m\n\u001b[1;32m     32\u001b[0m \u001b[0;34m\u001b[0m\u001b[0m\n\u001b[0;32m---> 33\u001b[0;31m \u001b[0mrf_model\u001b[0m \u001b[0;34m=\u001b[0m \u001b[0m_train_random_forest\u001b[0m\u001b[0;34m(\u001b[0m\u001b[0mX_train\u001b[0m\u001b[0;34m,\u001b[0m \u001b[0my_train\u001b[0m\u001b[0;34m,\u001b[0m \u001b[0mX_test\u001b[0m\u001b[0;34m,\u001b[0m \u001b[0my_test\u001b[0m\u001b[0;34m)\u001b[0m\u001b[0;34m\u001b[0m\u001b[0;34m\u001b[0m\u001b[0m\n\u001b[0m",
            "\u001b[0;31mNameError\u001b[0m: name 'X_train' is not defined"
          ]
        }
      ]
    },
    {
      "cell_type": "code",
      "source": [
        "def _train_KNN(X_train, y_train, X_test, y_test):\n",
        "\n",
        "    knn = KNeighborsClassifier()\n",
        "    # Create a dictionary of all values we want to test for n_neighbors\n",
        "    params_knn = {'n_neighbors': np.arange(1, 25)}\n",
        "    \n",
        "    # Use gridsearch to test all values for n_neighbors\n",
        "    knn_gs = GridSearchCV(knn, params_knn, cv=5)\n",
        "    \n",
        "    # Fit model to training data\n",
        "    knn_gs.fit(X_train, y_train)\n",
        "    \n",
        "    # Save best model\n",
        "    knn_best = knn_gs.best_estimator_\n",
        "     \n",
        "    # Check best n_neigbors value\n",
        "    print(knn_gs.best_params_)\n",
        "    \n",
        "    prediction = knn_best.predict(X_test)\n",
        "\n",
        "    print(classification_report(y_test, prediction))\n",
        "    print(confusion_matrix(y_test, prediction))\n",
        "    \n",
        "    return knn_best\n",
        "    \n",
        "    \n",
        "knn_model = _train_KNN(X_train, y_train, X_test, y_test)"
      ],
      "metadata": {
        "colab": {
          "base_uri": "https://localhost:8080/",
          "height": 200
        },
        "id": "qLeTEO8EEIuh",
        "outputId": "a14154ef-3042-4c5a-eae7-34382f18bdfe"
      },
      "execution_count": null,
      "outputs": [
        {
          "output_type": "error",
          "ename": "NameError",
          "evalue": "ignored",
          "traceback": [
            "\u001b[0;31m---------------------------------------------------------------------------\u001b[0m",
            "\u001b[0;31mNameError\u001b[0m                                 Traceback (most recent call last)",
            "\u001b[0;32m<ipython-input-27-f169d2ec8055>\u001b[0m in \u001b[0;36m<module>\u001b[0;34m()\u001b[0m\n\u001b[1;32m     25\u001b[0m \u001b[0;34m\u001b[0m\u001b[0m\n\u001b[1;32m     26\u001b[0m \u001b[0;34m\u001b[0m\u001b[0m\n\u001b[0;32m---> 27\u001b[0;31m \u001b[0mknn_model\u001b[0m \u001b[0;34m=\u001b[0m \u001b[0m_train_KNN\u001b[0m\u001b[0;34m(\u001b[0m\u001b[0mX_train\u001b[0m\u001b[0;34m,\u001b[0m \u001b[0my_train\u001b[0m\u001b[0;34m,\u001b[0m \u001b[0mX_test\u001b[0m\u001b[0;34m,\u001b[0m \u001b[0my_test\u001b[0m\u001b[0;34m)\u001b[0m\u001b[0;34m\u001b[0m\u001b[0;34m\u001b[0m\u001b[0m\n\u001b[0m",
            "\u001b[0;31mNameError\u001b[0m: name 'X_train' is not defined"
          ]
        }
      ]
    },
    {
      "cell_type": "code",
      "source": [
        "def _ensemble_model(rf_model, knn_model, gbt_model, X_train, y_train, X_test, y_test):\n",
        "    \n",
        "    # Create a dictionary of our models\n",
        "    estimators=[('knn', knn_model), ('rf', rf_model), ('gbt', gbt_model)]\n",
        "    \n",
        "    # Create our voting classifier, inputting our models\n",
        "    ensemble = VotingClassifier(estimators, voting='hard')\n",
        "    \n",
        "    #fit model to training data\n",
        "    ensemble.fit(X_train, y_train)\n",
        "    \n",
        "    #test our model on the test data\n",
        "    print(ensemble.score(X_test, y_test))\n",
        "    \n",
        "    prediction = ensemble.predict(X_test)\n",
        "\n",
        "    print(classification_report(y_test, prediction))\n",
        "    print(confusion_matrix(y_test, prediction))\n",
        "    \n",
        "    return ensemble\n",
        "    \n",
        "ensemble_model = _ensemble_model(rf_model, knn_model, gbt_model, X_train, y_train, X_test, y_test)\n"
      ],
      "metadata": {
        "colab": {
          "base_uri": "https://localhost:8080/",
          "height": 217
        },
        "id": "sDT1G3ZkELFu",
        "outputId": "1ccf0707-8f5d-4b3e-875b-270f3deec2df"
      },
      "execution_count": null,
      "outputs": [
        {
          "output_type": "error",
          "ename": "NameError",
          "evalue": "ignored",
          "traceback": [
            "\u001b[0;31m---------------------------------------------------------------------------\u001b[0m",
            "\u001b[0;31mNameError\u001b[0m                                 Traceback (most recent call last)",
            "\u001b[0;32m<ipython-input-28-f705a5e5db2d>\u001b[0m in \u001b[0;36m<module>\u001b[0;34m()\u001b[0m\n\u001b[1;32m     20\u001b[0m     \u001b[0;32mreturn\u001b[0m \u001b[0mensemble\u001b[0m\u001b[0;34m\u001b[0m\u001b[0;34m\u001b[0m\u001b[0m\n\u001b[1;32m     21\u001b[0m \u001b[0;34m\u001b[0m\u001b[0m\n\u001b[0;32m---> 22\u001b[0;31m \u001b[0mensemble_model\u001b[0m \u001b[0;34m=\u001b[0m \u001b[0m_ensemble_model\u001b[0m\u001b[0;34m(\u001b[0m\u001b[0mrf_model\u001b[0m\u001b[0;34m,\u001b[0m \u001b[0mknn_model\u001b[0m\u001b[0;34m,\u001b[0m \u001b[0mgbt_model\u001b[0m\u001b[0;34m,\u001b[0m \u001b[0mX_train\u001b[0m\u001b[0;34m,\u001b[0m \u001b[0my_train\u001b[0m\u001b[0;34m,\u001b[0m \u001b[0mX_test\u001b[0m\u001b[0;34m,\u001b[0m \u001b[0my_test\u001b[0m\u001b[0;34m)\u001b[0m\u001b[0;34m\u001b[0m\u001b[0;34m\u001b[0m\u001b[0m\n\u001b[0m",
            "\u001b[0;31mNameError\u001b[0m: name 'rf_model' is not defined"
          ]
        }
      ]
    },
    {
      "cell_type": "code",
      "source": [
        ""
      ],
      "metadata": {
        "id": "zeWFL2wWFSsW"
      },
      "execution_count": null,
      "outputs": []
    }
  ]
}