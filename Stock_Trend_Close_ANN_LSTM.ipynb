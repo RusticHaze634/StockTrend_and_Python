{
  "nbformat": 4,
  "nbformat_minor": 0,
  "metadata": {
    "colab": {
      "name": "Stock_Trend_Close_ANN_LSTM.ipynb",
      "provenance": [],
      "collapsed_sections": []
    },
    "kernelspec": {
      "name": "python3",
      "display_name": "Python 3"
    },
    "language_info": {
      "name": "python"
    }
  },
  "cells": [
    {
      "cell_type": "markdown",
      "source": [
        "# ANN - LSTM :  \n",
        "   to get the **closure price** of stock trending day.  \n",
        "   - data used : "
      ],
      "metadata": {
        "id": "0xw1ObcF_R3R"
      }
    },
    {
      "cell_type": "code",
      "source": [
        "!pip install yfinance"
      ],
      "metadata": {
        "id": "jwX5R4CJCDFC",
        "colab": {
          "base_uri": "https://localhost:8080/"
        },
        "outputId": "b0a4699b-8c38-448b-d80d-6386187c3547"
      },
      "execution_count": null,
      "outputs": [
        {
          "output_type": "stream",
          "name": "stdout",
          "text": [
            "Looking in indexes: https://pypi.org/simple, https://us-python.pkg.dev/colab-wheels/public/simple/\n",
            "Requirement already satisfied: yfinance in /usr/local/lib/python3.7/dist-packages (0.1.70)\n",
            "Requirement already satisfied: lxml>=4.5.1 in /usr/local/lib/python3.7/dist-packages (from yfinance) (4.8.0)\n",
            "Requirement already satisfied: multitasking>=0.0.7 in /usr/local/lib/python3.7/dist-packages (from yfinance) (0.0.10)\n",
            "Requirement already satisfied: requests>=2.26 in /usr/local/lib/python3.7/dist-packages (from yfinance) (2.27.1)\n",
            "Requirement already satisfied: numpy>=1.15 in /usr/local/lib/python3.7/dist-packages (from yfinance) (1.21.6)\n",
            "Requirement already satisfied: pandas>=0.24.0 in /usr/local/lib/python3.7/dist-packages (from yfinance) (1.3.5)\n",
            "Requirement already satisfied: pytz>=2017.3 in /usr/local/lib/python3.7/dist-packages (from pandas>=0.24.0->yfinance) (2022.1)\n",
            "Requirement already satisfied: python-dateutil>=2.7.3 in /usr/local/lib/python3.7/dist-packages (from pandas>=0.24.0->yfinance) (2.8.2)\n",
            "Requirement already satisfied: six>=1.5 in /usr/local/lib/python3.7/dist-packages (from python-dateutil>=2.7.3->pandas>=0.24.0->yfinance) (1.15.0)\n",
            "Requirement already satisfied: charset-normalizer~=2.0.0 in /usr/local/lib/python3.7/dist-packages (from requests>=2.26->yfinance) (2.0.12)\n",
            "Requirement already satisfied: certifi>=2017.4.17 in /usr/local/lib/python3.7/dist-packages (from requests>=2.26->yfinance) (2022.5.18.1)\n",
            "Requirement already satisfied: idna<4,>=2.5 in /usr/local/lib/python3.7/dist-packages (from requests>=2.26->yfinance) (2.10)\n",
            "Requirement already satisfied: urllib3<1.27,>=1.21.1 in /usr/local/lib/python3.7/dist-packages (from requests>=2.26->yfinance) (1.24.3)\n"
          ]
        }
      ]
    },
    {
      "cell_type": "code",
      "execution_count": null,
      "metadata": {
        "id": "0MuwnzcT_AlN"
      },
      "outputs": [],
      "source": [
        "import pandas as pd\n",
        "import numpy as np\n",
        "import matplotlib.pyplot as plt\n",
        "import math\n",
        "import yfinance as yf\n",
        "import pandas_datareader as web\n",
        "from sklearn.preprocessing import MinMaxScaler\n",
        "from keras.models import Sequential\n",
        "from keras.layers import Dense, LSTM\n",
        "import matplotlib.pyplot as plt\n",
        "plt.style.use('fivethirtyeight')"
      ]
    },
    {
      "cell_type": "code",
      "source": [
        "# get the stock code\n",
        "# df = web.DataReader('AAPL', data_source='yahoo', start ='2012-01-01', end='2022-02-21')\n",
        "data = yf.download(\"SPY\", start = '2012-01-01' , end ='2022-05-21')"
      ],
      "metadata": {
        "colab": {
          "base_uri": "https://localhost:8080/"
        },
        "id": "sHckAIBjAxze",
        "outputId": "e468cc94-c9c5-4114-830d-ec1a35f3c992"
      },
      "execution_count": null,
      "outputs": [
        {
          "output_type": "stream",
          "name": "stdout",
          "text": [
            "\r[*********************100%***********************]  1 of 1 completed\n"
          ]
        }
      ]
    },
    {
      "cell_type": "code",
      "source": [
        ""
      ],
      "metadata": {
        "id": "9eLRDMpy02hT"
      },
      "execution_count": null,
      "outputs": []
    },
    {
      "cell_type": "code",
      "source": [
        "df = data.sort_values('Date')\n",
        "df"
      ],
      "metadata": {
        "colab": {
          "base_uri": "https://localhost:8080/",
          "height": 455
        },
        "id": "CYqbSXkSCj74",
        "outputId": "fd56a71f-c0d9-4dc4-c92a-8b0903ffac78"
      },
      "execution_count": null,
      "outputs": [
        {
          "output_type": "execute_result",
          "data": {
            "text/plain": [
              "                  Open        High         Low       Close   Adj Close  \\\n",
              "Date                                                                     \n",
              "2012-01-03  127.760002  128.380005  127.430000  127.500000  104.950813   \n",
              "2012-01-04  127.199997  127.809998  126.709999  127.699997  105.115440   \n",
              "2012-01-05  127.010002  128.229996  126.430000  128.039993  105.395325   \n",
              "2012-01-06  128.199997  128.220001  127.290001  127.709999  105.123688   \n",
              "2012-01-09  128.000000  128.179993  127.410004  128.020004  105.378876   \n",
              "...                ...         ...         ...         ...         ...   \n",
              "2022-05-16  399.980011  403.970001  397.600006  400.089996  400.089996   \n",
              "2022-05-17  406.529999  408.570007  402.579987  408.320007  408.320007   \n",
              "2022-05-18  403.500000  403.799988  390.549988  391.859985  391.859985   \n",
              "2022-05-19  388.619995  394.140015  387.109985  389.459991  389.459991   \n",
              "2022-05-20  393.250000  397.029999  380.540009  389.630005  389.630005   \n",
              "\n",
              "               Volume  \n",
              "Date                   \n",
              "2012-01-03  193697900  \n",
              "2012-01-04  127186500  \n",
              "2012-01-05  173895000  \n",
              "2012-01-06  148050000  \n",
              "2012-01-09   99530200  \n",
              "...               ...  \n",
              "2022-05-16   78622400  \n",
              "2022-05-17   83029700  \n",
              "2022-05-18  117674500  \n",
              "2022-05-19   98510700  \n",
              "2022-05-20  131209600  \n",
              "\n",
              "[2614 rows x 6 columns]"
            ],
            "text/html": [
              "\n",
              "  <div id=\"df-d8ec2575-b312-423d-842f-03086ab0a287\">\n",
              "    <div class=\"colab-df-container\">\n",
              "      <div>\n",
              "<style scoped>\n",
              "    .dataframe tbody tr th:only-of-type {\n",
              "        vertical-align: middle;\n",
              "    }\n",
              "\n",
              "    .dataframe tbody tr th {\n",
              "        vertical-align: top;\n",
              "    }\n",
              "\n",
              "    .dataframe thead th {\n",
              "        text-align: right;\n",
              "    }\n",
              "</style>\n",
              "<table border=\"1\" class=\"dataframe\">\n",
              "  <thead>\n",
              "    <tr style=\"text-align: right;\">\n",
              "      <th></th>\n",
              "      <th>Open</th>\n",
              "      <th>High</th>\n",
              "      <th>Low</th>\n",
              "      <th>Close</th>\n",
              "      <th>Adj Close</th>\n",
              "      <th>Volume</th>\n",
              "    </tr>\n",
              "    <tr>\n",
              "      <th>Date</th>\n",
              "      <th></th>\n",
              "      <th></th>\n",
              "      <th></th>\n",
              "      <th></th>\n",
              "      <th></th>\n",
              "      <th></th>\n",
              "    </tr>\n",
              "  </thead>\n",
              "  <tbody>\n",
              "    <tr>\n",
              "      <th>2012-01-03</th>\n",
              "      <td>127.760002</td>\n",
              "      <td>128.380005</td>\n",
              "      <td>127.430000</td>\n",
              "      <td>127.500000</td>\n",
              "      <td>104.950813</td>\n",
              "      <td>193697900</td>\n",
              "    </tr>\n",
              "    <tr>\n",
              "      <th>2012-01-04</th>\n",
              "      <td>127.199997</td>\n",
              "      <td>127.809998</td>\n",
              "      <td>126.709999</td>\n",
              "      <td>127.699997</td>\n",
              "      <td>105.115440</td>\n",
              "      <td>127186500</td>\n",
              "    </tr>\n",
              "    <tr>\n",
              "      <th>2012-01-05</th>\n",
              "      <td>127.010002</td>\n",
              "      <td>128.229996</td>\n",
              "      <td>126.430000</td>\n",
              "      <td>128.039993</td>\n",
              "      <td>105.395325</td>\n",
              "      <td>173895000</td>\n",
              "    </tr>\n",
              "    <tr>\n",
              "      <th>2012-01-06</th>\n",
              "      <td>128.199997</td>\n",
              "      <td>128.220001</td>\n",
              "      <td>127.290001</td>\n",
              "      <td>127.709999</td>\n",
              "      <td>105.123688</td>\n",
              "      <td>148050000</td>\n",
              "    </tr>\n",
              "    <tr>\n",
              "      <th>2012-01-09</th>\n",
              "      <td>128.000000</td>\n",
              "      <td>128.179993</td>\n",
              "      <td>127.410004</td>\n",
              "      <td>128.020004</td>\n",
              "      <td>105.378876</td>\n",
              "      <td>99530200</td>\n",
              "    </tr>\n",
              "    <tr>\n",
              "      <th>...</th>\n",
              "      <td>...</td>\n",
              "      <td>...</td>\n",
              "      <td>...</td>\n",
              "      <td>...</td>\n",
              "      <td>...</td>\n",
              "      <td>...</td>\n",
              "    </tr>\n",
              "    <tr>\n",
              "      <th>2022-05-16</th>\n",
              "      <td>399.980011</td>\n",
              "      <td>403.970001</td>\n",
              "      <td>397.600006</td>\n",
              "      <td>400.089996</td>\n",
              "      <td>400.089996</td>\n",
              "      <td>78622400</td>\n",
              "    </tr>\n",
              "    <tr>\n",
              "      <th>2022-05-17</th>\n",
              "      <td>406.529999</td>\n",
              "      <td>408.570007</td>\n",
              "      <td>402.579987</td>\n",
              "      <td>408.320007</td>\n",
              "      <td>408.320007</td>\n",
              "      <td>83029700</td>\n",
              "    </tr>\n",
              "    <tr>\n",
              "      <th>2022-05-18</th>\n",
              "      <td>403.500000</td>\n",
              "      <td>403.799988</td>\n",
              "      <td>390.549988</td>\n",
              "      <td>391.859985</td>\n",
              "      <td>391.859985</td>\n",
              "      <td>117674500</td>\n",
              "    </tr>\n",
              "    <tr>\n",
              "      <th>2022-05-19</th>\n",
              "      <td>388.619995</td>\n",
              "      <td>394.140015</td>\n",
              "      <td>387.109985</td>\n",
              "      <td>389.459991</td>\n",
              "      <td>389.459991</td>\n",
              "      <td>98510700</td>\n",
              "    </tr>\n",
              "    <tr>\n",
              "      <th>2022-05-20</th>\n",
              "      <td>393.250000</td>\n",
              "      <td>397.029999</td>\n",
              "      <td>380.540009</td>\n",
              "      <td>389.630005</td>\n",
              "      <td>389.630005</td>\n",
              "      <td>131209600</td>\n",
              "    </tr>\n",
              "  </tbody>\n",
              "</table>\n",
              "<p>2614 rows × 6 columns</p>\n",
              "</div>\n",
              "      <button class=\"colab-df-convert\" onclick=\"convertToInteractive('df-d8ec2575-b312-423d-842f-03086ab0a287')\"\n",
              "              title=\"Convert this dataframe to an interactive table.\"\n",
              "              style=\"display:none;\">\n",
              "        \n",
              "  <svg xmlns=\"http://www.w3.org/2000/svg\" height=\"24px\"viewBox=\"0 0 24 24\"\n",
              "       width=\"24px\">\n",
              "    <path d=\"M0 0h24v24H0V0z\" fill=\"none\"/>\n",
              "    <path d=\"M18.56 5.44l.94 2.06.94-2.06 2.06-.94-2.06-.94-.94-2.06-.94 2.06-2.06.94zm-11 1L8.5 8.5l.94-2.06 2.06-.94-2.06-.94L8.5 2.5l-.94 2.06-2.06.94zm10 10l.94 2.06.94-2.06 2.06-.94-2.06-.94-.94-2.06-.94 2.06-2.06.94z\"/><path d=\"M17.41 7.96l-1.37-1.37c-.4-.4-.92-.59-1.43-.59-.52 0-1.04.2-1.43.59L10.3 9.45l-7.72 7.72c-.78.78-.78 2.05 0 2.83L4 21.41c.39.39.9.59 1.41.59.51 0 1.02-.2 1.41-.59l7.78-7.78 2.81-2.81c.8-.78.8-2.07 0-2.86zM5.41 20L4 18.59l7.72-7.72 1.47 1.35L5.41 20z\"/>\n",
              "  </svg>\n",
              "      </button>\n",
              "      \n",
              "  <style>\n",
              "    .colab-df-container {\n",
              "      display:flex;\n",
              "      flex-wrap:wrap;\n",
              "      gap: 12px;\n",
              "    }\n",
              "\n",
              "    .colab-df-convert {\n",
              "      background-color: #E8F0FE;\n",
              "      border: none;\n",
              "      border-radius: 50%;\n",
              "      cursor: pointer;\n",
              "      display: none;\n",
              "      fill: #1967D2;\n",
              "      height: 32px;\n",
              "      padding: 0 0 0 0;\n",
              "      width: 32px;\n",
              "    }\n",
              "\n",
              "    .colab-df-convert:hover {\n",
              "      background-color: #E2EBFA;\n",
              "      box-shadow: 0px 1px 2px rgba(60, 64, 67, 0.3), 0px 1px 3px 1px rgba(60, 64, 67, 0.15);\n",
              "      fill: #174EA6;\n",
              "    }\n",
              "\n",
              "    [theme=dark] .colab-df-convert {\n",
              "      background-color: #3B4455;\n",
              "      fill: #D2E3FC;\n",
              "    }\n",
              "\n",
              "    [theme=dark] .colab-df-convert:hover {\n",
              "      background-color: #434B5C;\n",
              "      box-shadow: 0px 1px 3px 1px rgba(0, 0, 0, 0.15);\n",
              "      filter: drop-shadow(0px 1px 2px rgba(0, 0, 0, 0.3));\n",
              "      fill: #FFFFFF;\n",
              "    }\n",
              "  </style>\n",
              "\n",
              "      <script>\n",
              "        const buttonEl =\n",
              "          document.querySelector('#df-d8ec2575-b312-423d-842f-03086ab0a287 button.colab-df-convert');\n",
              "        buttonEl.style.display =\n",
              "          google.colab.kernel.accessAllowed ? 'block' : 'none';\n",
              "\n",
              "        async function convertToInteractive(key) {\n",
              "          const element = document.querySelector('#df-d8ec2575-b312-423d-842f-03086ab0a287');\n",
              "          const dataTable =\n",
              "            await google.colab.kernel.invokeFunction('convertToInteractive',\n",
              "                                                     [key], {});\n",
              "          if (!dataTable) return;\n",
              "\n",
              "          const docLinkHtml = 'Like what you see? Visit the ' +\n",
              "            '<a target=\"_blank\" href=https://colab.research.google.com/notebooks/data_table.ipynb>data table notebook</a>'\n",
              "            + ' to learn more about interactive tables.';\n",
              "          element.innerHTML = '';\n",
              "          dataTable['output_type'] = 'display_data';\n",
              "          await google.colab.output.renderOutput(dataTable, element);\n",
              "          const docLink = document.createElement('div');\n",
              "          docLink.innerHTML = docLinkHtml;\n",
              "          element.appendChild(docLink);\n",
              "        }\n",
              "      </script>\n",
              "    </div>\n",
              "  </div>\n",
              "  "
            ]
          },
          "metadata": {},
          "execution_count": 38
        }
      ]
    },
    {
      "cell_type": "code",
      "source": [
        "# Get the shape\n",
        "df.shape"
      ],
      "metadata": {
        "colab": {
          "base_uri": "https://localhost:8080/"
        },
        "id": "YVGKTCI2CwPu",
        "outputId": "e0e9cfc2-c23e-49da-9502-f9fcaf313754"
      },
      "execution_count": null,
      "outputs": [
        {
          "output_type": "execute_result",
          "data": {
            "text/plain": [
              "(2614, 6)"
            ]
          },
          "metadata": {},
          "execution_count": 39
        }
      ]
    },
    {
      "cell_type": "markdown",
      "source": [
        ""
      ],
      "metadata": {
        "id": "3F36n70ZhESl"
      }
    },
    {
      "cell_type": "code",
      "source": [
        "# Visualise the closing price history\n",
        "plt.figure(figsize=(14,6))\n",
        "plt.title('Close Price History')\n",
        "plt.plot(df['Close'])\n",
        "plt.xlabel('Date', fontsize=16)\n",
        "plt.ylabel('Close Price USD ($)', fontsize =16)\n",
        "plt.show()"
      ],
      "metadata": {
        "colab": {
          "base_uri": "https://localhost:8080/",
          "height": 344
        },
        "id": "G8X3rOZSDER6",
        "outputId": "21fb9c97-cdf2-46ef-af82-72aa7656cc9c"
      },
      "execution_count": null,
      "outputs": [
        {
          "output_type": "display_data",
          "data": {
            "text/plain": [
              "<Figure size 1008x432 with 1 Axes>"
            ],
            "image/png": "[encoded data removed]"
          },
          "metadata": {}
        }
      ]
    },
    {
      "cell_type": "code",
      "source": [
        "# create a new df with only close column \n",
        "data = df.filter(['Close'])\n",
        "# convert the df to a numpy array\n",
        "dataset = data.values\n",
        "# get the no. of rows to train the model on\n",
        "training_data_len = math.ceil(len(dataset)* .8)\n",
        "\n",
        "training_data_len"
      ],
      "metadata": {
        "colab": {
          "base_uri": "https://localhost:8080/"
        },
        "id": "cRQSoTarDwJI",
        "outputId": "fa36849c-c445-41b1-f8b4-ddf22d11a6cb"
      },
      "execution_count": null,
      "outputs": [
        {
          "output_type": "execute_result",
          "data": {
            "text/plain": [
              "2092"
            ]
          },
          "metadata": {},
          "execution_count": 41
        }
      ]
    },
    {
      "cell_type": "code",
      "source": [
        "# scale the data - preprocessing\n",
        "scaler = MinMaxScaler(feature_range=(0,1))  # 0-1inclusive\n",
        "scaled_Data = scaler.fit_transform(dataset)\n",
        "\n",
        "scaled_Data"
      ],
      "metadata": {
        "colab": {
          "base_uri": "https://localhost:8080/"
        },
        "id": "ai7fnQ-uE0kQ",
        "outputId": "03da83e7-46ef-4175-a41d-91885c3797e9"
      },
      "execution_count": null,
      "outputs": [
        {
          "output_type": "execute_result",
          "data": {
            "text/plain": [
              "array([[0.00000000e+00],\n",
              "       [5.71077220e-04],\n",
              "       [1.54191285e-03],\n",
              "       ...,\n",
              "       [7.54861345e-01],\n",
              "       [7.48008332e-01],\n",
              "       [7.48493793e-01]])"
            ]
          },
          "metadata": {},
          "execution_count": 42
        }
      ]
    },
    {
      "cell_type": "code",
      "source": [
        "# CReate the training dataset - create the scaled dataset\n",
        "\n",
        "train_data = scaled_Data[0:training_data_len, :]\n",
        "# split the data into x_train and y_train datasets\n",
        "x_train =[]\n",
        "y_train = []\n",
        "\n",
        "for i in range(60, len(train_data)):\n",
        "  x_train.append(train_data[i-60:i,0])\n",
        "  y_train.append(train_data[i, 0])\n",
        "  if i<= 61:\n",
        "    print(x_train)\n",
        "    print(y_train)\n",
        "    print()"
      ],
      "metadata": {
        "colab": {
          "base_uri": "https://localhost:8080/"
        },
        "id": "tHJqtQqQFVMK",
        "outputId": "64a3abe2-fd9f-4046-e209-4707180530c1"
      },
      "execution_count": null,
      "outputs": [
        {
          "output_type": "stream",
          "name": "stdout",
          "text": [
            "[array([0.        , 0.00057108, 0.00154191, 0.00059964, 0.00148484,\n",
            "       0.00465436, 0.00485422, 0.0057394 , 0.00382627, 0.00525398,\n",
            "       0.00933727, 0.01130752, 0.01270665, 0.01173582, 0.01130752,\n",
            "       0.01444847, 0.0125068 , 0.01233548, 0.0110505 , 0.01090776,\n",
            "       0.01419149, 0.0147911 , 0.02010221, 0.01984523, 0.02081606,\n",
            "       0.02195826, 0.02244368, 0.01958825, 0.02244368, 0.02195826,\n",
            "       0.02015933, 0.02441393, 0.02544189, 0.02561321, 0.02435681,\n",
            "       0.02607009, 0.02692668, 0.02758346, 0.02872562, 0.0271837 ,\n",
            "       0.02921103, 0.02801176, 0.02641272, 0.02070187, 0.02338598,\n",
            "       0.02724078, 0.0287542 , 0.02878274, 0.03586419, 0.03543589,\n",
            "       0.03774878, 0.03654951, 0.03812   , 0.03694927, 0.03629253,\n",
            "       0.03340852, 0.03469345, 0.04029011, 0.03903372, 0.03703493])]\n",
            "[0.0363496074873465]\n",
            "\n",
            "[array([0.        , 0.00057108, 0.00154191, 0.00059964, 0.00148484,\n",
            "       0.00465436, 0.00485422, 0.0057394 , 0.00382627, 0.00525398,\n",
            "       0.00933727, 0.01130752, 0.01270665, 0.01173582, 0.01130752,\n",
            "       0.01444847, 0.0125068 , 0.01233548, 0.0110505 , 0.01090776,\n",
            "       0.01419149, 0.0147911 , 0.02010221, 0.01984523, 0.02081606,\n",
            "       0.02195826, 0.02244368, 0.01958825, 0.02244368, 0.02195826,\n",
            "       0.02015933, 0.02441393, 0.02544189, 0.02561321, 0.02435681,\n",
            "       0.02607009, 0.02692668, 0.02758346, 0.02872562, 0.0271837 ,\n",
            "       0.02921103, 0.02801176, 0.02641272, 0.02070187, 0.02338598,\n",
            "       0.02724078, 0.0287542 , 0.02878274, 0.03586419, 0.03543589,\n",
            "       0.03774878, 0.03654951, 0.03812   , 0.03694927, 0.03629253,\n",
            "       0.03340852, 0.03469345, 0.04029011, 0.03903372, 0.03703493]), array([0.00057108, 0.00154191, 0.00059964, 0.00148484, 0.00465436,\n",
            "       0.00485422, 0.0057394 , 0.00382627, 0.00525398, 0.00933727,\n",
            "       0.01130752, 0.01270665, 0.01173582, 0.01130752, 0.01444847,\n",
            "       0.0125068 , 0.01233548, 0.0110505 , 0.01090776, 0.01419149,\n",
            "       0.0147911 , 0.02010221, 0.01984523, 0.02081606, 0.02195826,\n",
            "       0.02244368, 0.01958825, 0.02244368, 0.02195826, 0.02015933,\n",
            "       0.02441393, 0.02544189, 0.02561321, 0.02435681, 0.02607009,\n",
            "       0.02692668, 0.02758346, 0.02872562, 0.0271837 , 0.02921103,\n",
            "       0.02801176, 0.02641272, 0.02070187, 0.02338598, 0.02724078,\n",
            "       0.0287542 , 0.02878274, 0.03586419, 0.03543589, 0.03774878,\n",
            "       0.03654951, 0.03812   , 0.03694927, 0.03629253, 0.03340852,\n",
            "       0.03469345, 0.04029011, 0.03903372, 0.03703493, 0.03634961])]\n",
            "[0.0363496074873465, 0.03800576192384575]\n",
            "\n"
          ]
        }
      ]
    },
    {
      "cell_type": "code",
      "source": [
        "# convert the x_train and y_train to numpy array\n",
        "x_train , y_train = np.array(x_train), np.array(y_train)"
      ],
      "metadata": {
        "id": "-jD5UJUBHbAD"
      },
      "execution_count": null,
      "outputs": []
    },
    {
      "cell_type": "code",
      "source": [
        "# Reshape the data\n",
        "x_train = np.reshape(x_train, (x_train.shape[0], x_train.shape[1], 1 ))\n",
        "x_train.shape"
      ],
      "metadata": {
        "colab": {
          "base_uri": "https://localhost:8080/"
        },
        "id": "BcuQ-zMnH-oa",
        "outputId": "24917f6d-e26a-4e3f-ac52-8200a9dae59d"
      },
      "execution_count": null,
      "outputs": [
        {
          "output_type": "execute_result",
          "data": {
            "text/plain": [
              "(2032, 60, 1)"
            ]
          },
          "metadata": {},
          "execution_count": 45
        }
      ]
    },
    {
      "cell_type": "markdown",
      "source": [
        "- Build the LSTM model"
      ],
      "metadata": {
        "id": "o0gFE_UWAzix"
      }
    },
    {
      "cell_type": "code",
      "source": [
        "# lstm build \n",
        "model = Sequential()\n",
        "model.add(LSTM(50, return_sequences =True, input_shape= (x_train.shape[1], 1)))\n",
        "model.add(LSTM(50, return_sequences =False))\n",
        "model.add(Dense(25))\n",
        "model.add(Dense(1))"
      ],
      "metadata": {
        "id": "tMV7qfOakbyr"
      },
      "execution_count": null,
      "outputs": []
    },
    {
      "cell_type": "code",
      "source": [
        "# compile the model\n",
        "model.compile(optimizer='adam', loss='mean_squared_error')\n",
        "\n",
        "# train the model\n",
        "model.fit(x_train, y_train , batch_size = 1, epochs = 1)"
      ],
      "metadata": {
        "colab": {
          "base_uri": "https://localhost:8080/"
        },
        "id": "FHQ60gvslGT_",
        "outputId": "6dd60183-15d5-4ae4-950a-d60a67bf1462"
      },
      "execution_count": null,
      "outputs": [
        {
          "output_type": "stream",
          "name": "stdout",
          "text": [
            "2032/2032 [==============================] - 81s 38ms/step - loss: 7.5381e-04\n"
          ]
        },
        {
          "output_type": "execute_result",
          "data": {
            "text/plain": [
              "<keras.callbacks.History at 0x7f2250c88990>"
            ]
          },
          "metadata": {},
          "execution_count": 47
        }
      ]
    },
    {
      "cell_type": "code",
      "source": [
        "# create testing dataset  - a new arrray = contaiing scaled values from index to \n",
        "test_data = scaled_Data[training_data_len - 60: , :] \n",
        "\n",
        "# create datasets x_test & y_test\n",
        "x_test =[]\n",
        "y_test = dataset[training_data_len:,:]\n",
        "for i in range (60, len(test_data)):\n",
        "  x_test.append(test_data[i-60:i, 0])\n"
      ],
      "metadata": {
        "id": "gcfNEWF1l7BX"
      },
      "execution_count": null,
      "outputs": []
    },
    {
      "cell_type": "code",
      "source": [
        "# convert the data to a numpy array to use in lstm modell\n",
        "x_test = np.array(x_test)\n",
        "# reshape the data - lstm expecting a 3d shape\n",
        "x_test = np.reshape(x_test, (x_test.shape[0], x_test.shape[1], 1 ))"
      ],
      "metadata": {
        "id": "x2tMh2AVlYa2"
      },
      "execution_count": null,
      "outputs": []
    },
    {
      "cell_type": "code",
      "source": [
        "# get the models predicted price values\n",
        "predictions = model.predict(x_test)\n",
        "predictions = scaler.inverse_transform(predictions)"
      ],
      "metadata": {
        "id": "js6YsT8DpMw5"
      },
      "execution_count": null,
      "outputs": []
    },
    {
      "cell_type": "code",
      "source": [
        "# get the root mean square error (RMSE) \n",
        "rmse = np.sqrt( np.mean(predictions - y_test)**2)\n",
        "rmse"
      ],
      "metadata": {
        "colab": {
          "base_uri": "https://localhost:8080/"
        },
        "id": "-3Bibx7xppIg",
        "outputId": "7603b1de-3cc5-4c92-eb20-a0a4568172f8"
      },
      "execution_count": null,
      "outputs": [
        {
          "output_type": "execute_result",
          "data": {
            "text/plain": [
              "5.374968137777628"
            ]
          },
          "metadata": {},
          "execution_count": 51
        }
      ]
    },
    {
      "cell_type": "code",
      "source": [
        "# plot the data \n",
        "train = data[: training_data_len]\n",
        "valid = data[training_data_len:]\n",
        "valid['Predictions'] = predictions\n",
        "plt.figure(figsize =(12,6))\n",
        "plt.title('Model')\n",
        "plt.xlabel('Date', fontsize =16)\n",
        "plt.ylabel('Close Price USD ($)', fontsize = 16)\n",
        "plt.plot(train['Close'])\n",
        "plt.plot(valid[['Close','Predictions']])\n",
        "plt.legend(['Train','Val', 'Predictions'], loc = 'lower right')\n",
        "plt.show()\n"
      ],
      "metadata": {
        "colab": {
          "base_uri": "https://localhost:8080/",
          "height": 518
        },
        "id": "40OnQIShqJ_8",
        "outputId": "57ffb4b5-e001-44bc-d80a-e63d39767752"
      },
      "execution_count": null,
      "outputs": [
        {
          "output_type": "stream",
          "name": "stderr",
          "text": [
            "/usr/local/lib/python3.7/dist-packages/ipykernel_launcher.py:4: SettingWithCopyWarning: \n",
            "A value is trying to be set on a copy of a slice from a DataFrame.\n",
            "Try using .loc[row_indexer,col_indexer] = value instead\n",
            "\n",
            "See the caveats in the documentation: https://pandas.pydata.org/pandas-docs/stable/user_guide/indexing.html#returning-a-view-versus-a-copy\n",
            "  after removing the cwd from sys.path.\n"
          ]
        },
        {
          "output_type": "display_data",
          "data": {
            "text/plain": [
              "<Figure size 864x432 with 1 Axes>"
            ],
            "image/png": "[encoded data removed]"
          },
          "metadata": {}
        }
      ]
    },
    {
      "cell_type": "code",
      "source": [
        "# show actual & predicted\n",
        "valid"
      ],
      "metadata": {
        "colab": {
          "base_uri": "https://localhost:8080/",
          "height": 455
        },
        "id": "8h-xrS23sGxh",
        "outputId": "1f841b6d-a8c5-4541-9417-820b6fbe5453"
      },
      "execution_count": null,
      "outputs": [
        {
          "output_type": "execute_result",
          "data": {
            "text/plain": [
              "                 Close  Predictions\n",
              "Date                               \n",
              "2020-04-28  285.730011   284.083405\n",
              "2020-04-29  293.209991   284.945557\n",
              "2020-04-30  290.480011   286.634125\n",
              "2020-05-01  282.790009   288.288269\n",
              "2020-05-04  283.570007   288.915070\n",
              "...                ...          ...\n",
              "2022-05-16  400.089996   395.772552\n",
              "2022-05-17  408.320007   394.631866\n",
              "2022-05-18  391.859985   395.146515\n",
              "2022-05-19  389.459991   394.467224\n",
              "2022-05-20  389.630005   393.131622\n",
              "\n",
              "[522 rows x 2 columns]"
            ],
            "text/html": [
              "\n",
              "  <div id=\"df-661eb10e-caf2-4773-96ff-fa2b0bcccfd4\">\n",
              "    <div class=\"colab-df-container\">\n",
              "      <div>\n",
              "<style scoped>\n",
              "    .dataframe tbody tr th:only-of-type {\n",
              "        vertical-align: middle;\n",
              "    }\n",
              "\n",
              "    .dataframe tbody tr th {\n",
              "        vertical-align: top;\n",
              "    }\n",
              "\n",
              "    .dataframe thead th {\n",
              "        text-align: right;\n",
              "    }\n",
              "</style>\n",
              "<table border=\"1\" class=\"dataframe\">\n",
              "  <thead>\n",
              "    <tr style=\"text-align: right;\">\n",
              "      <th></th>\n",
              "      <th>Close</th>\n",
              "      <th>Predictions</th>\n",
              "    </tr>\n",
              "    <tr>\n",
              "      <th>Date</th>\n",
              "      <th></th>\n",
              "      <th></th>\n",
              "    </tr>\n",
              "  </thead>\n",
              "  <tbody>\n",
              "    <tr>\n",
              "      <th>2020-04-28</th>\n",
              "      <td>285.730011</td>\n",
              "      <td>284.083405</td>\n",
              "    </tr>\n",
              "    <tr>\n",
              "      <th>2020-04-29</th>\n",
              "      <td>293.209991</td>\n",
              "      <td>284.945557</td>\n",
              "    </tr>\n",
              "    <tr>\n",
              "      <th>2020-04-30</th>\n",
              "      <td>290.480011</td>\n",
              "      <td>286.634125</td>\n",
              "    </tr>\n",
              "    <tr>\n",
              "      <th>2020-05-01</th>\n",
              "      <td>282.790009</td>\n",
              "      <td>288.288269</td>\n",
              "    </tr>\n",
              "    <tr>\n",
              "      <th>2020-05-04</th>\n",
              "      <td>283.570007</td>\n",
              "      <td>288.915070</td>\n",
              "    </tr>\n",
              "    <tr>\n",
              "      <th>...</th>\n",
              "      <td>...</td>\n",
              "      <td>...</td>\n",
              "    </tr>\n",
              "    <tr>\n",
              "      <th>2022-05-16</th>\n",
              "      <td>400.089996</td>\n",
              "      <td>395.772552</td>\n",
              "    </tr>\n",
              "    <tr>\n",
              "      <th>2022-05-17</th>\n",
              "      <td>408.320007</td>\n",
              "      <td>394.631866</td>\n",
              "    </tr>\n",
              "    <tr>\n",
              "      <th>2022-05-18</th>\n",
              "      <td>391.859985</td>\n",
              "      <td>395.146515</td>\n",
              "    </tr>\n",
              "    <tr>\n",
              "      <th>2022-05-19</th>\n",
              "      <td>389.459991</td>\n",
              "      <td>394.467224</td>\n",
              "    </tr>\n",
              "    <tr>\n",
              "      <th>2022-05-20</th>\n",
              "      <td>389.630005</td>\n",
              "      <td>393.131622</td>\n",
              "    </tr>\n",
              "  </tbody>\n",
              "</table>\n",
              "<p>522 rows × 2 columns</p>\n",
              "</div>\n",
              "      <button class=\"colab-df-convert\" onclick=\"convertToInteractive('df-661eb10e-caf2-4773-96ff-fa2b0bcccfd4')\"\n",
              "              title=\"Convert this dataframe to an interactive table.\"\n",
              "              style=\"display:none;\">\n",
              "        \n",
              "  <svg xmlns=\"http://www.w3.org/2000/svg\" height=\"24px\"viewBox=\"0 0 24 24\"\n",
              "       width=\"24px\">\n",
              "    <path d=\"M0 0h24v24H0V0z\" fill=\"none\"/>\n",
              "    <path d=\"M18.56 5.44l.94 2.06.94-2.06 2.06-.94-2.06-.94-.94-2.06-.94 2.06-2.06.94zm-11 1L8.5 8.5l.94-2.06 2.06-.94-2.06-.94L8.5 2.5l-.94 2.06-2.06.94zm10 10l.94 2.06.94-2.06 2.06-.94-2.06-.94-.94-2.06-.94 2.06-2.06.94z\"/><path d=\"M17.41 7.96l-1.37-1.37c-.4-.4-.92-.59-1.43-.59-.52 0-1.04.2-1.43.59L10.3 9.45l-7.72 7.72c-.78.78-.78 2.05 0 2.83L4 21.41c.39.39.9.59 1.41.59.51 0 1.02-.2 1.41-.59l7.78-7.78 2.81-2.81c.8-.78.8-2.07 0-2.86zM5.41 20L4 18.59l7.72-7.72 1.47 1.35L5.41 20z\"/>\n",
              "  </svg>\n",
              "      </button>\n",
              "      \n",
              "  <style>\n",
              "    .colab-df-container {\n",
              "      display:flex;\n",
              "      flex-wrap:wrap;\n",
              "      gap: 12px;\n",
              "    }\n",
              "\n",
              "    .colab-df-convert {\n",
              "      background-color: #E8F0FE;\n",
              "      border: none;\n",
              "      border-radius: 50%;\n",
              "      cursor: pointer;\n",
              "      display: none;\n",
              "      fill: #1967D2;\n",
              "      height: 32px;\n",
              "      padding: 0 0 0 0;\n",
              "      width: 32px;\n",
              "    }\n",
              "\n",
              "    .colab-df-convert:hover {\n",
              "      background-color: #E2EBFA;\n",
              "      box-shadow: 0px 1px 2px rgba(60, 64, 67, 0.3), 0px 1px 3px 1px rgba(60, 64, 67, 0.15);\n",
              "      fill: #174EA6;\n",
              "    }\n",
              "\n",
              "    [theme=dark] .colab-df-convert {\n",
              "      background-color: #3B4455;\n",
              "      fill: #D2E3FC;\n",
              "    }\n",
              "\n",
              "    [theme=dark] .colab-df-convert:hover {\n",
              "      background-color: #434B5C;\n",
              "      box-shadow: 0px 1px 3px 1px rgba(0, 0, 0, 0.15);\n",
              "      filter: drop-shadow(0px 1px 2px rgba(0, 0, 0, 0.3));\n",
              "      fill: #FFFFFF;\n",
              "    }\n",
              "  </style>\n",
              "\n",
              "      <script>\n",
              "        const buttonEl =\n",
              "          document.querySelector('#df-661eb10e-caf2-4773-96ff-fa2b0bcccfd4 button.colab-df-convert');\n",
              "        buttonEl.style.display =\n",
              "          google.colab.kernel.accessAllowed ? 'block' : 'none';\n",
              "\n",
              "        async function convertToInteractive(key) {\n",
              "          const element = document.querySelector('#df-661eb10e-caf2-4773-96ff-fa2b0bcccfd4');\n",
              "          const dataTable =\n",
              "            await google.colab.kernel.invokeFunction('convertToInteractive',\n",
              "                                                     [key], {});\n",
              "          if (!dataTable) return;\n",
              "\n",
              "          const docLinkHtml = 'Like what you see? Visit the ' +\n",
              "            '<a target=\"_blank\" href=https://colab.research.google.com/notebooks/data_table.ipynb>data table notebook</a>'\n",
              "            + ' to learn more about interactive tables.';\n",
              "          element.innerHTML = '';\n",
              "          dataTable['output_type'] = 'display_data';\n",
              "          await google.colab.output.renderOutput(dataTable, element);\n",
              "          const docLink = document.createElement('div');\n",
              "          docLink.innerHTML = docLinkHtml;\n",
              "          element.appendChild(docLink);\n",
              "        }\n",
              "      </script>\n",
              "    </div>\n",
              "  </div>\n",
              "  "
            ]
          },
          "metadata": {},
          "execution_count": 53
        }
      ]
    },
    {
      "cell_type": "code",
      "source": [
        "valid.loc['2022-05-19'].at['Close']"
      ],
      "metadata": {
        "colab": {
          "base_uri": "https://localhost:8080/"
        },
        "id": "C2QhY4f2-Mep",
        "outputId": "35ae9d8d-8500-49a7-b32f-81e0952d40b2"
      },
      "execution_count": null,
      "outputs": [
        {
          "output_type": "execute_result",
          "data": {
            "text/plain": [
              "389.4599914550781"
            ]
          },
          "metadata": {},
          "execution_count": 66
        }
      ]
    },
    {
      "cell_type": "code",
      "source": [
        ""
      ],
      "metadata": {
        "id": "Y-9U-XF_GStX"
      },
      "execution_count": null,
      "outputs": []
    },
    {
      "cell_type": "code",
      "source": [
        "# Get the quote\n",
        "spy_quote = yf.download(\"SPY\", start = '2012-01-01' , end ='2022-05-16')\n",
        "new_df = spy_quote.filter(['Close'])\n",
        "last_60_days = new_df[-60:].values\n",
        "last_60_days_scaled = scaler.transform(last_60_days)\n",
        "X_test=[]\n",
        "X_test.append(last_60_days_scaled)\n",
        "X_test = np.array(X_test)\n",
        "X_test = np.reshape(X_test, (X_test.shape[0], X_test.shape[1], 1))\n",
        "pred_price = model.predict(X_test)\n",
        "pred_price = scaler.inverse_transform(pred_price)\n",
        "print(pred_price)"
      ],
      "metadata": {
        "colab": {
          "base_uri": "https://localhost:8080/"
        },
        "id": "mJYOv75bsZNR",
        "outputId": "a15b9b7c-874b-461c-a414-2cead2dce6ed"
      },
      "execution_count": null,
      "outputs": [
        {
          "output_type": "stream",
          "name": "stdout",
          "text": [
            "\r[*********************100%***********************]  1 of 1 completed\n",
            "[[395.77255]]\n"
          ]
        }
      ]
    },
    {
      "cell_type": "code",
      "source": [
        "spy_quote_orig = yf.download(\"SPY\", start = '2022-05-17' , end ='2022-05-18')\n",
        "print(spy_quote_orig['Close'])"
      ],
      "metadata": {
        "colab": {
          "base_uri": "https://localhost:8080/"
        },
        "id": "0WmNxJqGvayz",
        "outputId": "f0596ebd-35de-4c73-97b6-b983d6bb875a"
      },
      "execution_count": null,
      "outputs": [
        {
          "output_type": "stream",
          "name": "stdout",
          "text": [
            "\r[*********************100%***********************]  1 of 1 completed\n",
            "Date\n",
            "2022-05-17    408.320007\n",
            "Name: Close, dtype: float64\n"
          ]
        }
      ]
    },
    {
      "cell_type": "code",
      "source": [
        "tickers = [\"SPY\"] #Subtitute for the tickers you want\n",
        "df =yf.download(tickers,  start = \"2022-05-17\" , end = \"2022-05-18\")\n",
        "df.Close"
      ],
      "metadata": {
        "colab": {
          "base_uri": "https://localhost:8080/"
        },
        "id": "M3TusqWW1FAq",
        "outputId": "6f2efccf-ed2a-4531-a725-e17853668329"
      },
      "execution_count": null,
      "outputs": [
        {
          "output_type": "stream",
          "name": "stdout",
          "text": [
            "\r[*********************100%***********************]  1 of 1 completed\n"
          ]
        },
        {
          "output_type": "execute_result",
          "data": {
            "text/plain": [
              "Date\n",
              "2022-05-17    408.320007\n",
              "Name: Close, dtype: float64"
            ]
          },
          "metadata": {},
          "execution_count": 57
        }
      ]
    },
    {
      "cell_type": "code",
      "source": [
        "error = ((df.loc[\"2022-05-17\"].Close) - pred_price)\n",
        "error"
      ],
      "metadata": {
        "id": "U4CDPUsEqN-l",
        "colab": {
          "base_uri": "https://localhost:8080/"
        },
        "outputId": "3cb20e89-95d2-4865-eac0-06ae72fa54d4"
      },
      "execution_count": null,
      "outputs": [
        {
          "output_type": "execute_result",
          "data": {
            "text/plain": [
              "array([[12.547455]], dtype=float32)"
            ]
          },
          "metadata": {},
          "execution_count": 78
        }
      ]
    },
    {
      "cell_type": "markdown",
      "source": [
        "Algorithm:\n",
        "- scrap data with date and time\n",
        "- preprocessing : check the updated preprocessing of HMM LSTM\n",
        "- add columns of up , down, flat - numeric values\n",
        "- divide into training and test sets\n",
        "- train algorithm \n",
        "- prediction and actual column\n",
        "- calculate accuracy : if prediction == acuuracy then (true prediction/ all predictions) \n",
        "- make a table with columns : Date, time, trend, trend value, accuracy \n",
        "- to get trend value of a particular date and time, extract it from the table of prediction and actual column   \n",
        "or extract it from the first scraped data table"
      ],
      "metadata": {
        "id": "HaFFkHbcrAxN"
      }
    },
    {
      "cell_type": "code",
      "source": [
        ""
      ],
      "metadata": {
        "id": "5sqVtJDVsJil"
      },
      "execution_count": null,
      "outputs": []
    }
  ]
}